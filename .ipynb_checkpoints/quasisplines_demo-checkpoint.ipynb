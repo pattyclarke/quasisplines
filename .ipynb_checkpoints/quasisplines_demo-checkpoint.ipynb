{
 "cells": [
  {
   "cell_type": "markdown",
   "metadata": {},
   "source": [
    "# Quasi-splines\n",
    "\n",
    "This is a Sage implementation of a method for computing splines.\n",
    "\n",
    "A ring of quasi-splines is just subring of a product of a given ring. For example, the diagonal in (C[x])^4 is a ring of quasi-splines, albeit a rather boring one. The elements of such a ring are variously called quasi-splines or tuples.\n",
    "\n",
    "A common and basic type of data to determine an ring of quasi-splines is a set of ideal-difference conditions. These conditions, constrain the differences between entries of a tuple. In the case of the diagonal ring, for any two entries in a tuple, the ideal is (0). In other words, the entries must equal. Specifying an ideal for each pair of entries of the tuple gives a condition against which one can test the difference of the entries. Such ideal-difference conditions are used to define subrings of all tuples, subrings of quasi-splines.\n",
    "\n",
    "Ultimately, there is the question of quasi-splines themselves, the elements that make up a quasi-spline ring. These are tuples, but are often treated as elements of a polynomial ring with relations---specified by a relation ideal.\n",
    "\n"
   ]
  },
  {
   "cell_type": "code",
   "execution_count": 1,
   "metadata": {},
   "outputs": [],
   "source": [
    "# Frest start\n",
    "reset()\n",
    "\n",
    "# Load the quasi-spline routines\n",
    "import quasisplines.quasisplines as qs #for \"my_contains\"\n",
    "import quasisplines.qspline_objects as qsob #just for \"IDC_from_TL\", the rest are embedded in methods.\n",
    "\n"
   ]
  },
  {
   "cell_type": "markdown",
   "metadata": {},
   "source": [
    "# Ideal-Difference Conditions\n",
    "\n",
    "A common and basic type of data to determine an ring of quasi-splines is a set of ideal-difference conditions. These conditions, constrain the differences between entries of a tuple. In the case of the diagonal ring, for any two entries in a tuple, the ideal is (0). In other words, the entries must equal.\n",
    "\n",
    "The most common way to specify a set of ideal-difference conditions is by giving an embedded triangulation and a smoothness parameter 'r'. From this, one defines a function J(t, t') on pairs of simplices. This function takes values in the ideals of functions on the ambient space, J(t, t') is the ideal of functions vanishing on the r-th order neighborhood of the intersection of t and t'. The function J(t, t') is itself what we call 'a set of ideal-difference conditions'. \n",
    "\n",
    "The simplest example is probably the triangulation of [-1,1] into [-1,0] and [0,1]. In this case there is only one ideal, and it equals (x^(r+1)). Here 'r' is the smoothness parameter, and the resulting splines will be C^r. A minor elaboration on this example is to subdivide [-1, 2] as [-1, 0], [0, 1], and [1, 2]. Now we have three ideals: J([-1,0],[0,1]) = (x^(r+1)), J([-1,0],[1,2]) = (1), and J([0,1],[1,2])=((x-1)^(r+1)).\n",
    "\n",
    "When one has a ring of quasi-splines, intrinsic ideal-difference conditions can be extracted from it. These are called Contact Ideals, and will be considered more later. This brings to the fore and important point. Different sets of ideal-difference conditions can define the same ring of quasi-splines. The contact ideals give a canonical choice, and more importantly a choice that is geometrically significant."
   ]
  },
  {
   "cell_type": "code",
   "execution_count": 2,
   "metadata": {
    "scrolled": true
   },
   "outputs": [
    {
     "data": {
      "text/plain": [
       "(0,\n",
       " 6,\n",
       " Ideal (9*y2) of Multivariate Polynomial Ring in y0, y1, y2 over Rational Field)"
      ]
     },
     "execution_count": 2,
     "metadata": {},
     "output_type": "execute_result"
    }
   ],
   "source": [
    "#We will make an ideal-difference condition object from a specialized routine that creates them from 'triangle lists'.\n",
    "#A triangle list is something like a simplicial complex.\n",
    "\n",
    "#This example is Dalbec and Schenck counterexample to Rose's conjecture.\n",
    "#It is comprised for two tetrahedra in 3-space glued along a triangle.\n",
    "#The triangle along which tetrahedra are glued is [v0, v1, v2]. \n",
    "(v0, v1,v2,v3, v4, v5) = ( (3,0,0), (0,3,0), (-2,-2,1), (1,0,-3), (0,0,3), (0,0,0) ) \n",
    "(t0,t1,t2,t3,t4,t5) = ((v5,v0,v1,v4),(v5,v0,v1,v3),(v5,v2,v4,v0),(v5,v2,v4,v1),(v5,v2,v3,v0),(v5,v2,v3,v1))\n",
    "\n",
    "#Now, we create the ideal-difference condition.\n",
    "DSIDCob = qsob.IDC_from_TL((t0, t1, t2, t3, t4, t5) , 0)\n",
    "\n",
    "#A sample of relevant information extracted from the ideal-difference condition:\n",
    "DSIDCob.coefficient_ring, DSIDCob.sheet_number, DSIDCob.difference_ideal(0,1)\n"
   ]
  },
  {
   "cell_type": "code",
   "execution_count": 3,
   "metadata": {},
   "outputs": [
    {
     "name": "stdout",
     "output_type": "stream",
     "text": [
      "(-3*y0*y1 + 5/11*y1*y2 + y0 + y2, -4*y0*y1 - 1/2*y1^2 + y1*y2 + 4*y2^2 - 1/4*y0, 13*y0*y1 - 4*y1^2 + 2*y0*y2 + y1*y2, -y0*y1 - 3*y2^2 + 3/2*y0 - 2, -y1^2 - 45*y2^2 - 2*y1 - 1/2, 2/3*y0*y1 + 1/5*y1^2 - 1/38*y0*y2 - y0)\n"
     ]
    },
    {
     "data": {
      "text/plain": [
       "False"
      ]
     },
     "execution_count": 3,
     "metadata": {},
     "output_type": "execute_result"
    }
   ],
   "source": [
    "##########\n",
    "########## Deliberate Random #############\n",
    "##########\n",
    "\n",
    "#To check if a tuple is a quasi-spline with respect to our ideal difference condtion, we generate a random tuple. \n",
    "rnd_tp = tuple([DSIDCob.coefficient_ring.random_element() for i in range(DSIDCob.sheet_number)])\n",
    "print(rnd_tp)\n",
    "\n",
    "#Now check.\n",
    "DSIDCob.is_spline(rnd_tp)\n"
   ]
  },
  {
   "cell_type": "markdown",
   "metadata": {},
   "source": [
    "# Quasi-Spine Rings\n",
    "\n",
    "From ideal-difference conditions we can define a quasi-spline ring. The quasi-spline ring is officially a ring of tuples, however we can present it as quotient of a polynomial ring."
   ]
  },
  {
   "cell_type": "code",
   "execution_count": 4,
   "metadata": {},
   "outputs": [
    {
     "data": {
      "text/plain": [
       "(0, (y0, y1, y2))"
      ]
     },
     "execution_count": 4,
     "metadata": {},
     "output_type": "execute_result"
    }
   ],
   "source": [
    "# Defining a quasi-spline ring from ideal-difference conditions\n",
    "\n",
    "DSQSRob = DSIDCob.get_quasi_spline_ring()\n",
    "\n",
    "DSQSRob.ring(), DSQSRob.coefficient_variables()\n",
    "\n"
   ]
  },
  {
   "cell_type": "code",
   "execution_count": 5,
   "metadata": {},
   "outputs": [
    {
     "data": {
      "text/plain": [
       "(3*d^2 + 2, (-t^3 - 2*t^2 - 2*t - 1)/(t^3 - 3*t^2 + 3*t - 1))"
      ]
     },
     "execution_count": 5,
     "metadata": {},
     "output_type": "execute_result"
    }
   ],
   "source": [
    "#The main geometrical invariant of the quasi-spline ring is the Hilbert polynomial. \n",
    "#This gives the high-degree dimensions of degree bounded elements of the ring.\n",
    "#It is computed as the dimensions of the graded pieces of Billera-Rose homogenization of the ring.\n",
    "#The dimension generating function is the Hilbert series, also computed here.\n",
    "\n",
    "DSHp = DSQSRob.Hilbert_polynomial()\n",
    "DSHs = DSQSRob.Hilbert_series()\n",
    "\n",
    "DSHp, DSHs"
   ]
  },
  {
   "cell_type": "code",
   "execution_count": 6,
   "metadata": {},
   "outputs": [
    {
     "data": {
      "text/plain": [
       "(Multivariate Polynomial Ring in y0, y1, y2 over Rational Field,\n",
       " [(0, y0*y1*y2 + 1/3*y1*y2^2, 0, 0, 0, 0),\n",
       "  (0,\n",
       "   -2*y0*y2 - 2/3*y2^2,\n",
       "   y0*y1 - y1^2,\n",
       "   0,\n",
       "   -2*y0*y2 + 5/3*y1*y2 - 2/3*y2^2,\n",
       "   0),\n",
       "  (0,\n",
       "   2*y0*y2 + 2/3*y2^2,\n",
       "   0,\n",
       "   0,\n",
       "   y0*y1 - 5/6*y1^2 + 2*y0*y2 - 4/3*y1*y2 + 2/3*y2^2,\n",
       "   0),\n",
       "  (0, -2*y2, y1, y0, -2*y2, -2*y2),\n",
       "  (0, 5/3*y2, 0, 0, 5/6*y1 + 5/3*y2, y0 + 2*y2),\n",
       "  (1, 1, 1, 1, 1, 1)])"
      ]
     },
     "execution_count": 6,
     "metadata": {},
     "output_type": "execute_result"
    }
   ],
   "source": [
    "#The quasi-spline ring is an algebra over the coefficient ring. So we can form a quasi-spline module from it. \n",
    "#The 'y' variables come from the coefficient ring, and the 'x' variables are quasi-splines.\n",
    "DSQSMob = DSQSRob.module()\n",
    "DSsmg = DSQSMob.gens()\n",
    "DSQSRob.coefficient_ring(), DSsmg"
   ]
  },
  {
   "cell_type": "code",
   "execution_count": 7,
   "metadata": {},
   "outputs": [
    {
     "data": {
      "text/plain": [
       "((y0, y1, y2),\n",
       " (x0, x1, x2, x3, x4, y0, y1, y2),\n",
       " [(0, y0*y1*y2 + 1/3*y1*y2^2, 0, 0, 0, 0),\n",
       "  (0,\n",
       "   -2*y0*y2 - 2/3*y2^2,\n",
       "   y0*y1 - y1^2,\n",
       "   0,\n",
       "   -2*y0*y2 + 5/3*y1*y2 - 2/3*y2^2,\n",
       "   0),\n",
       "  (0,\n",
       "   2*y0*y2 + 2/3*y2^2,\n",
       "   0,\n",
       "   0,\n",
       "   y0*y1 - 5/6*y1^2 + 2*y0*y2 - 4/3*y1*y2 + 2/3*y2^2,\n",
       "   0),\n",
       "  (0, -2*y2, y1, y0, -2*y2, -2*y2),\n",
       "  (0, 5/3*y2, 0, 0, 5/6*y1 + 5/3*y2, y0 + 2*y2)])"
      ]
     },
     "execution_count": 7,
     "metadata": {},
     "output_type": "execute_result"
    }
   ],
   "source": [
    "#The variables in the polynomial ring presentation of the quasi-spline ring correspond to tuples.\n",
    "#The variable 'xi' corresponds to the i-th tuple. \n",
    "\n",
    "DSQSRob.coefficient_variables(), DSQSRob.ring.gens(), DSQSRob.generating_tuples"
   ]
  },
  {
   "cell_type": "code",
   "execution_count": 8,
   "metadata": {},
   "outputs": [
    {
     "data": {
      "text/plain": [
       "Ideal (6*x4^2 - 6*x4*y0 - 12*x4*y2 + 5*x2, x3*x4 + 2*x4*y2, 6*x2*x4 - 5*x2*y1 - 10*x2*y2 + 10*x0, 3*x1*x4 + 5*x2*y2, 3*x0*x4 - 5*x0*y2, x3^2 - x3*y0 - 2*x4*y2 + x1, x2*x3 + 2*x2*y2, x1*x3 - x1*y1 - 2*x2*y2 - 2*x0, x0*x3 + 2*x0*y2, x0*x1 + x0*x2, 6*x2*y0*y2 - 5*x2*y1*y2 + 2*x2*y2^2 + 3*x1*x2 + 10*x0*y2, 6*x0*y0*y2 + 2*x0*y2^2 - 3*x0*x2, 6*x2*y0*y1 - 5*x2*y1^2 + 2*x2*y1*y2 - 6*x1*x2 - 6*x2^2 - 12*x0*y0 + 10*x0*y1 - 4*x0*y2, 3*x1*y0*y1 - 3*x1*y1^2 - x2*y1*y2 - 3*x1^2 - 3*x1*x2 + 6*x0*y0 - 6*x0*y1 + 2*x0*y2, x1*x2*y1 + 2*x1*x2*y2 + 2*x2^2*y2 + 2*x0*x2, x0*x2*y1 - 2*x0^2) of Multivariate Polynomial Ring in x0, x1, x2, x3, x4, y0, y1, y2 over Rational Field"
      ]
     },
     "execution_count": 8,
     "metadata": {},
     "output_type": "execute_result"
    }
   ],
   "source": [
    "#In the polynomial presentation of the quasi-spline rings, we have a relations ideal,\n",
    "DSQSRob.relation_ideal"
   ]
  },
  {
   "cell_type": "code",
   "execution_count": 9,
   "metadata": {},
   "outputs": [],
   "source": [
    "#We can compare the intrinsic contact ideals to the ideal-difference conditions used to define the quasi-spline ring.\n",
    "#Here are the contact ideals.\n",
    "\n",
    "contact_J_ob = DSQSRob.contact_ideals()\n",
    "contact_J = contact_J_ob.difference_ideal\n"
   ]
  },
  {
   "cell_type": "code",
   "execution_count": 10,
   "metadata": {},
   "outputs": [
    {
     "data": {
      "text/plain": [
       "[True,\n",
       " True,\n",
       " True,\n",
       " True,\n",
       " True,\n",
       " True,\n",
       " True,\n",
       " True,\n",
       " True,\n",
       " True,\n",
       " True,\n",
       " True,\n",
       " True,\n",
       " True,\n",
       " True,\n",
       " True,\n",
       " True,\n",
       " True,\n",
       " True,\n",
       " True,\n",
       " True,\n",
       " True,\n",
       " True,\n",
       " True,\n",
       " True,\n",
       " True,\n",
       " True,\n",
       " True,\n",
       " True,\n",
       " True,\n",
       " True,\n",
       " True,\n",
       " True,\n",
       " True,\n",
       " True,\n",
       " True]"
      ]
     },
     "execution_count": 10,
     "metadata": {},
     "output_type": "execute_result"
    }
   ],
   "source": [
    "#Containment one way:\n",
    "#(This uses a 'my_contains' routine that I wrote because sage's 'contains' method was giving strange answers.)\n",
    "\n",
    "DSJ = DSIDCob.difference_ideal\n",
    "\n",
    "[qs.my_contains(DSJ(i,j), contact_J(i,j)) for i in range(len(DSsmg[0])) for j in range(len(DSsmg[0]))]"
   ]
  },
  {
   "cell_type": "code",
   "execution_count": 11,
   "metadata": {},
   "outputs": [
    {
     "data": {
      "text/plain": [
       "[True,\n",
       " True,\n",
       " True,\n",
       " True,\n",
       " True,\n",
       " True,\n",
       " True,\n",
       " True,\n",
       " True,\n",
       " True,\n",
       " True,\n",
       " True,\n",
       " True,\n",
       " True,\n",
       " True,\n",
       " True,\n",
       " True,\n",
       " True,\n",
       " True,\n",
       " True,\n",
       " True,\n",
       " True,\n",
       " True,\n",
       " True,\n",
       " True,\n",
       " True,\n",
       " True,\n",
       " True,\n",
       " True,\n",
       " True,\n",
       " True,\n",
       " True,\n",
       " True,\n",
       " True,\n",
       " True,\n",
       " True]"
      ]
     },
     "execution_count": 11,
     "metadata": {},
     "output_type": "execute_result"
    }
   ],
   "source": [
    "#Containment the other:\n",
    "# Ditto on 'my_contains'.\n",
    "\n",
    "[qs.my_contains(contact_J(i,j), DSJ(i,j)) for i in range(len(DSsmg[0])) for j in range(len(DSsmg[0]))]"
   ]
  },
  {
   "cell_type": "markdown",
   "metadata": {},
   "source": [
    "# Quasi-Splines\n",
    "\n",
    "Elements of a quasi-spline ring are called quasi-splines. Strictly speaking, they are tuples; however, for arithmetic it is useful to present them in the quasi-spline ring presented as quotient of a polynomial ring."
   ]
  },
  {
   "cell_type": "code",
   "execution_count": 12,
   "metadata": {},
   "outputs": [],
   "source": [
    "########\n",
    "#### Deliberate Random ####  \n",
    "########\n",
    "\n",
    "#We can get a random quasi-splines. \n",
    "DSQSob = DSQSRob.random_quasi_spline()\n",
    "oDSQSob = DSQSRob.random_quasi_spline()\n"
   ]
  },
  {
   "cell_type": "code",
   "execution_count": 13,
   "metadata": {},
   "outputs": [
    {
     "data": {
      "text/plain": [
       "(11/2*x0*y1 + y0*y1 - 10*y0*y2,\n",
       " (y0*y1 - 10*y0*y2,\n",
       "  11/2*y0*y1^2*y2 + 11/6*y1^2*y2^2 + y0*y1 - 10*y0*y2,\n",
       "  y0*y1 - 10*y0*y2,\n",
       "  y0*y1 - 10*y0*y2,\n",
       "  y0*y1 - 10*y0*y2,\n",
       "  y0*y1 - 10*y0*y2),\n",
       " True)"
      ]
     },
     "execution_count": 13,
     "metadata": {},
     "output_type": "execute_result"
    }
   ],
   "source": [
    "#The quasi-spline can be presented either as an element in the polynomial presentation or as a tuple.\n",
    "#We can also verify the quasi-spline ring it belongs to.\n",
    "\n",
    "DSQSob.ring_element, DSQSob.tuple(), DSQSob.parent == DSQSRob"
   ]
  },
  {
   "cell_type": "code",
   "execution_count": 14,
   "metadata": {},
   "outputs": [
    {
     "data": {
      "text/plain": [
       "([0, 0, 0, 0, 0, 0], <class 'quasisplines.qspline_objects.QuasiSpline'>)"
      ]
     },
     "execution_count": 14,
     "metadata": {},
     "output_type": "execute_result"
    }
   ],
   "source": [
    "#..and add them, subtract them, and multiply them.\n",
    "sumDSQSob = DSQSob + oDSQSob\n",
    "diffDSQSob = DSQSob - oDSQSob\n",
    "prodDSQSob = DSQSob * oDSQSob\n",
    "\n",
    "\n",
    "[DSQSob.tuple()[i] + oDSQSob.tuple()[i] - sumDSQSob.tuple()[i] for i in range(len(sumDSQSob.tuple()))], DSQSob.__class__"
   ]
  },
  {
   "cell_type": "code",
   "execution_count": 15,
   "metadata": {},
   "outputs": [
    {
     "data": {
      "text/plain": [
       "(363/4*x0^2*y1^2 + 33*x0*y0*y1^2 + 3*y0^2*y1^2 - 330*x0*y0*y1*y2 - 60*y0^2*y1*y2 + 300*y0^2*y2^2 + 7,\n",
       " '************',\n",
       " (3*y0^2*y1^2 - 60*y0^2*y1*y2 + 300*y0^2*y2^2 + 7,\n",
       "  363/4*y0^2*y1^4*y2^2 + 121/2*y0*y1^4*y2^3 + 121/12*y1^4*y2^4 + 33*y0^2*y1^3*y2 - 330*y0^2*y1^2*y2^2 + 11*y0*y1^3*y2^2 - 110*y0*y1^2*y2^3 + 3*y0^2*y1^2 - 60*y0^2*y1*y2 + 300*y0^2*y2^2 + 7,\n",
       "  3*y0^2*y1^2 - 60*y0^2*y1*y2 + 300*y0^2*y2^2 + 7,\n",
       "  3*y0^2*y1^2 - 60*y0^2*y1*y2 + 300*y0^2*y2^2 + 7,\n",
       "  3*y0^2*y1^2 - 60*y0^2*y1*y2 + 300*y0^2*y2^2 + 7,\n",
       "  3*y0^2*y1^2 - 60*y0^2*y1*y2 + 300*y0^2*y2^2 + 7))"
      ]
     },
     "execution_count": 15,
     "metadata": {},
     "output_type": "execute_result"
    }
   ],
   "source": [
    "#Note, extra functionality needs to be added to plug a spline into a polynomnial.\n",
    "#It kinda works, but +, -, * with constants isn't implemented in the dunders.\n",
    "#For now, we can do some gymnastics...\n",
    "\n",
    "f(z) = 3*z^2+7 #get a polynomial\n",
    "zee = DSQSob.ring_element #grab the ring element of the quasi-spline\n",
    "fDSQSob = DSQSob.parent.quasi_spline(f(zee)) #plug-in, make a new quasi-spline\n",
    "fDSQSob.ring_element, '************', fDSQSob.tuple()\n"
   ]
  },
  {
   "cell_type": "code",
   "execution_count": 16,
   "metadata": {},
   "outputs": [
    {
     "data": {
      "text/plain": [
       "[(0, 0, 0, 0, 0, 0),\n",
       " (0, 0, 0, 0, 0, 0),\n",
       " (0, 0, 0, 0, 0, 0),\n",
       " (0, 0, 0, 0, 0, 0),\n",
       " (0, 0, 0, 0, 0, 0),\n",
       " (0, 0, 0, 0, 0, 0),\n",
       " (0, 0, 0, 0, 0, 0),\n",
       " (0, 0, 0, 0, 0, 0),\n",
       " (0, 0, 0, 0, 0, 0),\n",
       " (0, 0, 0, 0, 0, 0),\n",
       " (0, 0, 0, 0, 0, 0),\n",
       " (0, 0, 0, 0, 0, 0),\n",
       " (0, 0, 0, 0, 0, 0),\n",
       " (0, 0, 0, 0, 0, 0),\n",
       " (0, 0, 0, 0, 0, 0),\n",
       " (0, 0, 0, 0, 0, 0)]"
      ]
     },
     "execution_count": 16,
     "metadata": {},
     "output_type": "execute_result"
    }
   ],
   "source": [
    "#As an exercise, we can verify that any element in the relation ideal gives the zero tuple.\n",
    "\n",
    "DSQSRrel = DSQSRob.relation_ideal\n",
    "DSsp_gens = [DSQSRob.quasi_spline(f) for f in DSQSRrel.gens()]\n",
    "\n",
    "[f.tuple() for f in DSsp_gens]\n"
   ]
  },
  {
   "cell_type": "code",
   "execution_count": 17,
   "metadata": {},
   "outputs": [
    {
     "data": {
      "text/plain": [
       "(11/2*x0*y1 + y0*y1 - 10*y0*y2, 11/2*x0*y1 + y0*y1 - 10*y0*y2)"
      ]
     },
     "execution_count": 17,
     "metadata": {},
     "output_type": "execute_result"
    }
   ],
   "source": [
    "#As a test, we churn a quasi-spline: convert it into a tuple and then back into a quasi-spline. \n",
    "#Finally, we verify that the difference between the original and curned quasi-splines lies in the relation ideal.\n",
    "#The curning process is significant because \n",
    "# the original quasi-spline had been defined in terms of a polynomial, not a tuple\n",
    "tupQSob = DSQSob.tuple()\n",
    "\n",
    "churnQSob = DSQSRob.quasi_spline(DSQSRob.quasi_spline(tupQSob).ring_element)\n",
    "\n",
    "DSQSob.ring_element, churnQSob.ring_element\n"
   ]
  },
  {
   "cell_type": "code",
   "execution_count": 18,
   "metadata": {},
   "outputs": [
    {
     "data": {
      "text/plain": [
       "0"
      ]
     },
     "execution_count": 18,
     "metadata": {},
     "output_type": "execute_result"
    }
   ],
   "source": [
    "#Here is the acutal difference that we want to verify is in the relations ideal.\n",
    "erpoly  = DSQSob.ring_element - churnQSob.ring_element\n",
    "erpoly"
   ]
  },
  {
   "cell_type": "code",
   "execution_count": 19,
   "metadata": {},
   "outputs": [
    {
     "data": {
      "text/plain": [
       "(True, (0, 0, 0, 0, 0, 0))"
      ]
     },
     "execution_count": 19,
     "metadata": {},
     "output_type": "execute_result"
    }
   ],
   "source": [
    "erpoly in DSQSRob.relation_ideal, DSQSRob.quasi_spline(erpoly).tuple() # toerr in DSSPrel"
   ]
  },
  {
   "cell_type": "markdown",
   "metadata": {},
   "source": [
    "# Examples\n",
    "\n",
    "Below we examine various examples. These will becomes tests later..."
   ]
  },
  {
   "cell_type": "code",
   "execution_count": 20,
   "metadata": {},
   "outputs": [
    {
     "data": {
      "text/plain": [
       "[True, True, True]"
      ]
     },
     "execution_count": 20,
     "metadata": {},
     "output_type": "execute_result"
    }
   ],
   "source": [
    "#Example: Clean Gluing.\n",
    "#This is an example of ideal difference conditions which don't have any accidental conditions imposed.\n",
    "#As a quasi-spline space, it is formed by gluing three copies of an affine line at three different points.\n",
    "#It can be embedded as the boundary divisors of the projective plane, each component punctured once to make it affine.\n",
    "\n",
    "\n",
    "def ng_J(j,k):\n",
    "    (n,s) = (1,3)\n",
    "    ng_R = PolynomialRing(QQ, 'y', n)\n",
    "    y = ng_R.gens()[0]\n",
    "    if ((j,k) == (0,1)) or ((j,k) == (1,0)):\n",
    "        return y*ng_R\n",
    "    elif ((j,k) == (0,2)) or ((j,k) == (2,0)):\n",
    "        return (y-1)^2*ng_R\n",
    "    else:\n",
    "        return (y-2)^3*ng_R\n",
    "\n",
    "ngIDC = qsob.IdealDifferenceConditions(3, ng_J)\n",
    "\n",
    "##\n",
    "\n",
    "ngQSR = ngIDC.get_quasi_spline_ring()\n",
    "ngDIDC = ngQSR.contact_ideals()\n",
    "\n",
    "[ngIDC.difference_ideal(j,k) == ngDIDC.difference_ideal(j,k) for k in range(ngIDC.sheet_number) for j in range(k)]\n",
    "\n",
    "#ngQSR.module().is_projective() ##sagemath's mac2 interface is failing on some arguments. \n"
   ]
  },
  {
   "cell_type": "code",
   "execution_count": 21,
   "metadata": {},
   "outputs": [
    {
     "data": {
      "text/plain": [
       "([False, True, True],\n",
       " Ideal (y) of Multivariate Polynomial Ring in y over Rational Field,\n",
       " Ideal (y^2) of Multivariate Polynomial Ring in y over Rational Field)"
      ]
     },
     "execution_count": 21,
     "metadata": {},
     "output_type": "execute_result"
    }
   ],
   "source": [
    "#Example: Induced Gluing                                                                \n",
    "#Here we begin with three affine lines, and glue line 1 and line 2 to line 0 without explicitly gluing line 1 to line 2.\n",
    "#Because we have glued at the same point at line 0, we get a non-trivial contact ideal between lines 1 and 2. \n",
    "#In addition, our gluing included some infinitesimals, and inspection of the ideals can show that there is indeed infinitesimal contact between lines 1 and 2.\n",
    "\n",
    "\n",
    "def ig_J(j,k):\n",
    "    (n,s) = (1,3)\n",
    "    ig_R = PolynomialRing(QQ, 'y', n)\n",
    "    y = ig_R.gens()[0]\n",
    "    if ((j,k) == (0,1)) or ((j,k) == (1,0)):\n",
    "        return y*ig_R\n",
    "    elif ((j,k) == (0,2)) or ((j,k) == (2,0)):\n",
    "        return (y)^2*ig_R\n",
    "    else:\n",
    "        return (y)^3*ig_R\n",
    "\n",
    "igIDC = qsob.IdealDifferenceConditions(3, ig_J)\n",
    "\n",
    "##\n",
    "\n",
    "igQSR = igIDC.get_quasi_spline_ring()\n",
    "igDIDC = igQSR.contact_ideals()\n",
    "\n",
    "\n",
    "[igIDC.difference_ideal(j,k) == igDIDC.difference_ideal(j,k) for k in range(igIDC.sheet_number) for j in range(k)], igIDC.difference_ideal(0,1), igDIDC.difference_ideal(0,1), "
   ]
  },
  {
   "cell_type": "code",
   "execution_count": 22,
   "metadata": {},
   "outputs": [
    {
     "data": {
      "text/plain": [
       "([(1, 2), (1, 2), (1, 2)],\n",
       " True,\n",
       " [(1, 1, 1),\n",
       "  (-2*y0*y1^2 + y1^3, y0^2*y1 - 2*y0*y1^2 + y1^3, 0),\n",
       "  (-3*y0*y1^2 + 2*y1^3, y0^3 - 3*y0*y1^2 + 2*y1^3, 0)])"
      ]
     },
     "execution_count": 22,
     "metadata": {},
     "output_type": "execute_result"
    }
   ],
   "source": [
    "#Example: Hypersurface induces non-Hypersurface                                          \n",
    "#Here we glue three planes along first order neighborhoods of lines through the origin. \n",
    "#The overlap at the origin induces greater infinitesimal identification there than specified in the gluing.\n",
    "\n",
    "def hnh_J(j,k):\n",
    "    (n,s) = (2,3)\n",
    "    hnh_R = PolynomialRing(QQ, 'y', n)\n",
    "    y = hnh_R.gens()\n",
    "    if ((j,k) == (0,1)) or ((j,k) == (1,0)):\n",
    "        return y[0]^2*hnh_R\n",
    "    elif ((j,k) == (0,2)) or ((j,k) == (2,0)):\n",
    "        return y[1]^2*hnh_R\n",
    "    else:\n",
    "        return (y[0]-y[1])^2*hnh_R\n",
    "\n",
    "hnhIDC = qsob.IdealDifferenceConditions(3, hnh_J)\n",
    "\n",
    "##\n",
    "\n",
    "hnhQSR = hnhIDC.get_quasi_spline_ring()\n",
    "hnhDIDC = hnhQSR.contact_ideals()\n",
    "\n",
    "\n",
    "hnhQSR = hnhIDC.get_quasi_spline_ring()\n",
    "hnhDIDC = hnhQSR.contact_ideals()\n",
    "    \n",
    "[(len((hnhIDC.difference_ideal(j,k)).gens()), len((hnhDIDC.difference_ideal(j,k)).gens()))  for k in range(3) for j in range(k)], hnhQSR.module().is_projective(), hnhQSR.module().get_free_basis()"
   ]
  },
  {
   "cell_type": "code",
   "execution_count": 23,
   "metadata": {},
   "outputs": [
    {
     "data": {
      "text/plain": [
       "False"
      ]
     },
     "execution_count": 23,
     "metadata": {},
     "output_type": "execute_result"
    }
   ],
   "source": [
    "#Example: not-free                                                                       \n",
    "\n",
    "def nf_J(j,k):\n",
    "    (n,s) = (2,2)\n",
    "    nf_R = PolynomialRing(QQ,'y',n)\n",
    "    y = nf_R.gens()\n",
    "    return y * nf_R\n",
    "\n",
    "nfIDC = qsob.IdealDifferenceConditions(2, nf_J)\n",
    "\n",
    "nfQSR = nfIDC.get_quasi_spline_ring()\n",
    "\n",
    "nfQSR.module().is_projective()\n",
    "\n",
    "\n"
   ]
  },
  {
   "cell_type": "code",
   "execution_count": 24,
   "metadata": {},
   "outputs": [
    {
     "data": {
      "text/plain": [
       "(True,\n",
       " [(1, 1, 1, 1, 1, 1),\n",
       "  (2*y2, 0, y1 + 2*y2, y0 + 2*y2, 0, 0),\n",
       "  (6*y0, 6*y0 + 2*y2, 6*y0 - 6*y1, 0, 6*y0 - 5*y1 + 2*y2, 0),\n",
       "  (3*y0*y1, 3*y0*y1 + y1*y2, 0, 0, 0, 0),\n",
       "  (2*y0*y2, 0, y0*y1 - y1^2 + 2*y0*y2 - 2*y1*y2, 0, 0, 0),\n",
       "  (y0*y1*y2, 0, 0, 0, 0, 0)],\n",
       " (<0,1,2,4>, <0,1,3,4>, <0,2,3,4>, <1,2,4,5>, <1,3,4,5>, <2,3,4,5>))"
      ]
     },
     "execution_count": 24,
     "metadata": {},
     "output_type": "execute_result"
    }
   ],
   "source": [
    "#Example: Return to Dalbec-Schenck\n",
    "\n",
    "DSQSRob.module().is_projective(), DSQSRob.module().get_free_basis(), qs.type_triangulation((t0, t1, t2, t3, t4, t5))"
   ]
  },
  {
   "cell_type": "code",
   "execution_count": 37,
   "metadata": {},
   "outputs": [
    {
     "data": {
      "text/plain": [
       "False"
      ]
     },
     "execution_count": 37,
     "metadata": {},
     "output_type": "execute_result"
    }
   ],
   "source": [
    "#Example: non-manifold triangulation without free splines - from Billera-Rose                                                                \n",
    "\n",
    "\n",
    "(v0, v1,v2,v3, v4) = ( (-1,0), (0,1), (0,0), (1,0), (0,-1) )\n",
    "(t0, t1) = ((v0,v1,v2),(v2,v3,v4))\n",
    "\n",
    "nmIDC = qsob.IDC_from_TL((t0, t1) , 0)\n",
    "nmQSR = nmIDC.get_quasi_spline_ring()\n",
    "\n",
    "nmQSR.module().is_projective()\n",
    "\n"
   ]
  },
  {
   "cell_type": "code",
   "execution_count": 43,
   "metadata": {},
   "outputs": [
    {
     "data": {
      "text/plain": [
       "(True,\n",
       " [(1, 1, 1, 1, 1, 1, 1, 1),\n",
       "  (y0^3, y0^3, y0^3, y0^3, 0, 0, 0, 0),\n",
       "  (y1^3, y1^3, 0, 0, y1^3, y1^3, 0, 0),\n",
       "  (y2^3, 0, y2^3, 0, y2^3, 0, y2^3, 0),\n",
       "  (y0^3*y1^3, y0^3*y1^3, 0, 0, 0, 0, 0, 0),\n",
       "  (y0^3*y2^3, 0, y0^3*y2^3, 0, 0, 0, 0, 0),\n",
       "  (y1^3*y2^3, 0, 0, 0, y1^3*y2^3, 0, 0, 0),\n",
       "  (y0^3*y1^3*y2^3, 0, 0, 0, 0, 0, 0, 0)])"
      ]
     },
     "execution_count": 43,
     "metadata": {},
     "output_type": "execute_result"
    }
   ],
   "source": [
    "#Example: Billera-Rose, Modules of piecewise polynomials and their freeness symmetric arrangment                                                                                                                        \n",
    "\n",
    "(v0, v1, v2, v3, v4, v5, v6) = ((0,0,0),(1,0,0),(0,1,0), (0,0,1),(-1,0,0),(0,-1,0),(0,0,-1))\n",
    "(t0, t1, t2, t3, t4, t5, t6, t7) = (\n",
    "(v0,v1,v2,v3),\n",
    "(v0,v1,v2,v6),\n",
    "(v0,v1,v5,v3),\n",
    "(v0,v1,v5,v6),\n",
    "(v0,v4,v2,v3),\n",
    "(v0,v4,v2,v6),\n",
    "(v0,v4,v5,v3),\n",
    "(v0,v4,v5,v6),\n",
    ")\n",
    "\n",
    "brIDC = qsob.IDC_from_TL((t0, t1, t2, t3, t4, t5, t6, t7) , 2)\n",
    "brQSR = brIDC.get_quasi_spline_ring()\n",
    "brQSR.module().is_projective(), brQSR.module().get_free_basis(), #br_triangulation = type_triangulation((t0, t1, t2, t3, t4, t5, t6, t7))\n"
   ]
  },
  {
   "cell_type": "code",
   "execution_count": null,
   "metadata": {},
   "outputs": [],
   "source": [
    "#Example: deformed Billera-Rose arrangement                                                                                                           \n",
    "print 'deformed Billera-Rose arrangement'\n",
    "\n",
    "fbr2IDC = qsob.IDC_from_TL((t0, t1, t2, t3, t4, t5, t6, t7) , 2)\n"
   ]
  },
  {
   "cell_type": "code",
   "execution_count": 48,
   "metadata": {},
   "outputs": [
    {
     "data": {
      "text/plain": [
       "(True,\n",
       " [(1, 1, 1), (-y1, y0 - y1, 0), (y0*y1, 0, 0)],\n",
       " (<0,1,2>, <0,2,3>, <1,2,3>))"
      ]
     },
     "execution_count": 48,
     "metadata": {},
     "output_type": "execute_result"
    }
   ],
   "source": [
    "#Example: Alfeld split                                                                                                                                \n",
    "\n",
    "def alfeld_triangles(n):\n",
    "    v = tuple([tuple([0 for i in range(n)])]+[tuple([-1 for i in range(n)])]+identity_matrix(n).columns())\n",
    "    t = tuple([v[:i]+ v[i+1:] for i in range(n+2)[1:]])\n",
    "    return t\n",
    "\n",
    "def alfeld(n,r):\n",
    "    (asR, ass, asJ) = triangle_splines(alfeld_triangles(n),r)\n",
    "    return (asR, ass, asJ)\n",
    "\n",
    "as2_triang = alfeld_triangles(2)\n",
    "\n",
    "as2IDC = qsob.IDC_from_TL(as2_triang, 0)\n",
    "as2QSR = as2IDC.get_quasi_spline_ring()\n",
    "as2_triangulation = qs.type_triangulation(as2_triang)\n",
    "\n",
    "as2QSR.module().is_projective(), as2QSR.module().get_free_basis(), as2_triangulation\n",
    "\n",
    "\n",
    "\n"
   ]
  },
  {
   "cell_type": "code",
   "execution_count": 51,
   "metadata": {},
   "outputs": [
    {
     "data": {
      "text/plain": [
       "(True,\n",
       " [(1, 1, 1),\n",
       "  (-2*y0*y1^2 + y1^3, y0^2*y1 - 2*y0*y1^2 + y1^3, 0),\n",
       "  (-3*y0*y1^2 + 2*y1^3, y0^3 - 3*y0*y1^2 + 2*y1^3, 0)])"
      ]
     },
     "execution_count": 51,
     "metadata": {},
     "output_type": "execute_result"
    }
   ],
   "source": [
    "#Example: Another Alfeld split \n",
    "\n",
    "as21IDC = qsob.IDC_from_TL(as2_triang, 1)\n",
    "as21QSR = as21IDC.get_quasi_spline_ring()\n",
    "\n",
    "\n",
    "as21QSR.module().is_projective(), as21QSR.module().get_free_basis()\n"
   ]
  },
  {
   "cell_type": "markdown",
   "metadata": {},
   "source": [
    "# Examples with long computation times."
   ]
  },
  {
   "cell_type": "code",
   "execution_count": null,
   "metadata": {},
   "outputs": [],
   "source": [
    "#Example: more D-S\n",
    "#####the last lines below are a bit slow to compute, so i've commented them out                                                              \n",
    "\n",
    "ds_IDCs = [qsob.IDC_from_TL((t0, t1, t2, t3, t4, t5), r) for r in range(7)]\n",
    "\n",
    "#ds_QSRs = [ds_IDCs[r].get_quasi_spline_ring() for r in range(7)]\n",
    "#[ds_QSR[r].module().is_free for r in range(7)]"
   ]
  },
  {
   "cell_type": "code",
   "execution_count": null,
   "metadata": {},
   "outputs": [],
   "source": [
    "#Example: Morgan-Scott triangulation - symmetric version                                                                                     \n",
    "\n",
    "(v0, v1,v2,v3, v4, v5) = ( (4,4), (0,0), (8,0), (4,1), (5,2), (3,2) )\n",
    "\n",
    "(t0, t1, t2, t3, t4, t5, t6) = ((v3, v4 ,v5),\n",
    "                                               (v0, v4 ,v5),\n",
    "                                               (v1, v3 ,v5),\n",
    "                                               (v2, v3 ,v4),\n",
    "                                               (v0, v1 ,v5),\n",
    "                                               (v1, v2 ,v3),\n",
    "                                               (v0, v2 ,v4))\n",
    "\n",
    "msIDC = qsob.IDC_from_TL((t0, t1, t2, t3, t4, t5, t6) , 2)\n",
    "\n",
    "msQSR = msIDC.get_quasi_spline_ring()\n",
    "\n",
    "##Again, slow routines have been commented out...I'll probably run and pickle these later...\n",
    "#msQSR.module().is_projective()\n",
    "#msQSR.module().get_free_basis()\n",
    "#ms_triangulation = qs.type_triangulation((t0, t1, t2, t3, t4, t5, t6))\n"
   ]
  },
  {
   "cell_type": "code",
   "execution_count": null,
   "metadata": {},
   "outputs": [],
   "source": [
    "#Example: Morgan-Scott triangulation - skew version                                                                                          \n",
    "\n",
    "(v0, v1,v2,v3, v4, v5) = ( (0,0), (4,0), (2,4), (1,1), (3,1), (2,3) )\n",
    "(t0, t1, t2, t3, t4, t5, t6) = ((v3, v4 ,v5),\n",
    "                                               (v0, v3 ,v5),\n",
    "                                               (v1, v3 ,v4),\n",
    "                                               (v2, v4 ,v5),\n",
    "                                               (v0, v1 ,v3),\n",
    "                                               (v1, v2 ,v4),\n",
    "                                               (v0, v2 ,v5))\n",
    "\n",
    "ms2IDC = qsob.IDC_from_TL((t0, t1, t2, t3, t4, t5, t6) , 2)\n",
    "\n",
    "ms2QSR = msIDC.get_quasi_spline_ring()\n",
    "\n",
    "\n",
    "##Again, slow routines have been commented out...I'll probably run and pickle these later...\n",
    "#ms2QSR.module().is_projective()\n",
    "#ms2QSR.module().get_free_basis()\n",
    "#ms2_triangulation = qs.type_triangulation((t0, t1, t2, t3, t4, t5, t6))\n"
   ]
  },
  {
   "cell_type": "code",
   "execution_count": null,
   "metadata": {},
   "outputs": [],
   "source": [
    "#Example: random triangulation                                                                                                               \n",
    "\n",
    "\n",
    "(R, s, J, triangulation, r) = qs.random_triangle_splines(3,2)\n",
    "rtIDC = qsob.IdealDifferenceConditions(s, J)\n",
    "\n",
    "rtQSR = rtIDC.get_quasi_spline_ring()\n",
    "\n",
    "rtQSR.module().is_projective(), rtQSR.module().get_free_basis(), triangulation.plot()"
   ]
  }
 ],
 "metadata": {
  "kernelspec": {
   "display_name": "SageMath 8.3",
   "language": "",
   "name": "sagemath"
  },
  "language_info": {
   "codemirror_mode": {
    "name": "ipython",
    "version": 2
   },
   "file_extension": ".py",
   "mimetype": "text/x-python",
   "name": "python",
   "nbconvert_exporter": "python",
   "pygments_lexer": "ipython2",
   "version": "2.7.15"
  }
 },
 "nbformat": 4,
 "nbformat_minor": 2
}
